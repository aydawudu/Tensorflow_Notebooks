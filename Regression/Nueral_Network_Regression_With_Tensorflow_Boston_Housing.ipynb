{
  "nbformat": 4,
  "nbformat_minor": 0,
  "metadata": {
    "colab": {
      "name": "Nueral_Network_Regression_With_Tensorflow_Boston_Housing.ipynb",
      "provenance": []
    },
    "kernelspec": {
      "name": "python3",
      "display_name": "Python 3"
    },
    "language_info": {
      "name": "python"
    }
  },
  "cells": [
    {
      "cell_type": "markdown",
      "source": [
        "# 01. Neural Network Regression with TensorFlow"
      ],
      "metadata": {
        "id": "a8ozfqo0mRem"
      }
    },
    {
      "cell_type": "code",
      "source": [
        "#Lets import \n",
        "import tensorflow as tf\n",
        "print(tf.__version__)"
      ],
      "metadata": {
        "colab": {
          "base_uri": "https://localhost:8080/"
        },
        "id": "Eu0d64H49szm",
        "outputId": "1cee2200-989a-4dbb-cc21-3f2a8b529941"
      },
      "execution_count": null,
      "outputs": [
        {
          "output_type": "stream",
          "name": "stdout",
          "text": [
            "2.8.0\n"
          ]
        }
      ]
    },
    {
      "cell_type": "markdown",
      "source": [
        "![image.png](data:image/png;base64,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)\n",
        "\n",
        "\n",
        "Source: Adapted from page 293 of Hands-On Machine Learning with Scikit-Learn, Keras & TensorFlow Book by Aurélien Géron"
      ],
      "metadata": {
        "id": "xaFz8uwW91iv"
      }
    },
    {
      "cell_type": "markdown",
      "source": [
        "In this notebook, we will build a neural network using the Boston Housing Dataset from :https://www.tensorflow.org/api_docs/python/tf/keras/datasets/boston_housing/load_data "
      ],
      "metadata": {
        "id": "OsFobFC_DZBg"
      }
    },
    {
      "cell_type": "markdown",
      "source": [
        "#Load Data\n",
        "\n",
        " Variables in order:\n",
        " - CRIM     per capita crime rate by town\n",
        " - ZN       proportion of residential land zoned for lots over 25,000 sq.ft.\n",
        " - INDUS    proportion of non-retail business acres per town\n",
        " - CHAS     Charles River dummy variable (= 1 if tract bounds river; 0 otherwise)\n",
        " - NOX      nitric oxides concentration (parts per 10 million)\n",
        " - RM       average number of rooms per dwelling\n",
        " - AGE      proportion of owner-occupied units built prior to 1940\n",
        " - DIS      weighted distances to five Boston employment centres\n",
        " - RAD      index of accessibility to radial highways\n",
        " - TAX      full-value property-tax rate per 10,000 dollars\n",
        " - PTRATIO  pupil-teacher ratio by town\n",
        " - B        1000(Bk - 0.63)^2 where Bk is the proportion of blacks by town\n",
        " - LSTAT    % lower status of the population\n",
        " - MEDV     Median value of owner-occupied homes in $1000's\n",
        "\n",
        "\n"
      ],
      "metadata": {
        "id": "IdLqhWRADoWF"
      }
    },
    {
      "cell_type": "code",
      "source": [
        "(X_train, y_train), (X_test, y_test)=tf.keras.datasets.boston_housing.load_data(path='boston_housing.npz', test_split=0.2, seed=113)"
      ],
      "metadata": {
        "id": "fPAxZGsiDrG9"
      },
      "execution_count": null,
      "outputs": []
    },
    {
      "cell_type": "code",
      "source": [
        "len(X_train), len(y_train), len(X_test), len(y_test)"
      ],
      "metadata": {
        "colab": {
          "base_uri": "https://localhost:8080/"
        },
        "id": "iSvaeX8EFpzq",
        "outputId": "6873e240-9fbc-4d52-f572-25e7b9252140"
      },
      "execution_count": null,
      "outputs": [
        {
          "output_type": "execute_result",
          "data": {
            "text/plain": [
              "(404, 404, 102, 102)"
            ]
          },
          "metadata": {},
          "execution_count": 48
        }
      ]
    },
    {
      "cell_type": "code",
      "source": [
        "X_train.shape, y_train.shape"
      ],
      "metadata": {
        "colab": {
          "base_uri": "https://localhost:8080/"
        },
        "id": "JO75CPfoFseU",
        "outputId": "0258af73-bb2b-4590-ec8f-3c2ff0751062"
      },
      "execution_count": null,
      "outputs": [
        {
          "output_type": "execute_result",
          "data": {
            "text/plain": [
              "((404, 13), (404,))"
            ]
          },
          "metadata": {},
          "execution_count": 49
        }
      ]
    },
    {
      "cell_type": "markdown",
      "source": [
        "### Lets visualize the data by turning it into a pandas dataframe"
      ],
      "metadata": {
        "id": "-HSDFY3RGioR"
      }
    },
    {
      "cell_type": "code",
      "source": [
        "X_train[0], y_train[0]"
      ],
      "metadata": {
        "colab": {
          "base_uri": "https://localhost:8080/"
        },
        "id": "V__MrQGc-9pp",
        "outputId": "f73d10d6-9f0a-464d-970a-092917f8e0f8"
      },
      "execution_count": null,
      "outputs": [
        {
          "output_type": "execute_result",
          "data": {
            "text/plain": [
              "(array([  1.23247,   0.     ,   8.14   ,   0.     ,   0.538  ,   6.142  ,\n",
              "         91.7    ,   3.9769 ,   4.     , 307.     ,  21.     , 396.9    ,\n",
              "         18.72   ]), 15.2)"
            ]
          },
          "metadata": {},
          "execution_count": 50
        }
      ]
    },
    {
      "cell_type": "code",
      "source": [
        "import numpy as np\n",
        "np.mean(y_train)"
      ],
      "metadata": {
        "colab": {
          "base_uri": "https://localhost:8080/"
        },
        "id": "nX5_Ex0a_Xdr",
        "outputId": "b0bfbe69-1700-4c8a-cc61-9696f71ce463"
      },
      "execution_count": null,
      "outputs": [
        {
          "output_type": "execute_result",
          "data": {
            "text/plain": [
              "22.395049504950492"
            ]
          },
          "metadata": {},
          "execution_count": 51
        }
      ]
    },
    {
      "cell_type": "code",
      "source": [
        "np.max(y_train)"
      ],
      "metadata": {
        "colab": {
          "base_uri": "https://localhost:8080/"
        },
        "id": "CizFOfwBAe9L",
        "outputId": "10337d2f-0010-4ced-bca4-80f00a62bd2f"
      },
      "execution_count": null,
      "outputs": [
        {
          "output_type": "execute_result",
          "data": {
            "text/plain": [
              "50.0"
            ]
          },
          "metadata": {},
          "execution_count": 52
        }
      ]
    },
    {
      "cell_type": "markdown",
      "source": [
        "# Steps in Modeling with Tensorflow\n",
        "\n",
        "Using the Sequential API we will follow these steps to build a model\n",
        "\n",
        "- Creating a model - piece together the layers of a neural network yourself (using the Functional or Sequential API) or import a previously built model (known as transfer learning).\n",
        "- Compiling a model - defining how a models performance should be measured (loss/metrics) as well as defining how it should improve (optimizer).\n",
        "- Fitting a model - letting the model try to find patterns in the data (how does X get to y)."
      ],
      "metadata": {
        "id": "XMqm6bEHIFba"
      }
    },
    {
      "cell_type": "code",
      "source": [
        "#set random seed\n",
        "tf.random.set_seed(42)\n",
        "\n",
        "#create a model using the sequential API\n",
        "model_1=tf.keras.Sequential([\n",
        "  tf.keras.layers.Dense(1)                        \n",
        "])\n",
        "\n",
        "#compile\n",
        "model_1.compile(loss='mae',\n",
        "                optimizer=tf.keras.optimizers.SGD())\n",
        "\n",
        "#FIT\n",
        "model_1.fit(X_train, y_train, epochs=100, verbose=0)"
      ],
      "metadata": {
        "id": "NWq7rvLOPgfg",
        "colab": {
          "base_uri": "https://localhost:8080/"
        },
        "outputId": "c0fe740f-0ede-4146-83e4-72d62f3c36d6"
      },
      "execution_count": null,
      "outputs": [
        {
          "output_type": "execute_result",
          "data": {
            "text/plain": [
              "<keras.callbacks.History at 0x7fb777bdd510>"
            ]
          },
          "metadata": {},
          "execution_count": 53
        }
      ]
    },
    {
      "cell_type": "code",
      "source": [
        "#check and save results for later\n",
        "test_results={}\n",
        "test_results['model_1']=model_1.evaluate(X_test, y_test)"
      ],
      "metadata": {
        "colab": {
          "base_uri": "https://localhost:8080/"
        },
        "id": "G7F0fnHeACmW",
        "outputId": "4cf85f5e-829d-419d-cfc4-c6650a7565b6"
      },
      "execution_count": null,
      "outputs": [
        {
          "output_type": "stream",
          "name": "stdout",
          "text": [
            "4/4 [==============================] - 0s 2ms/step - loss: 830.8780\n"
          ]
        }
      ]
    },
    {
      "cell_type": "markdown",
      "source": [
        "#Normalization"
      ],
      "metadata": {
        "id": "B1Mz1gnLAXpj"
      }
    },
    {
      "cell_type": "code",
      "source": [
        "X_train"
      ],
      "metadata": {
        "colab": {
          "base_uri": "https://localhost:8080/"
        },
        "id": "xJVnNVdaBvme",
        "outputId": "63a05c73-a528-4cd2-a3c0-0120a1f992b8"
      },
      "execution_count": null,
      "outputs": [
        {
          "output_type": "execute_result",
          "data": {
            "text/plain": [
              "array([[1.23247e+00, 0.00000e+00, 8.14000e+00, ..., 2.10000e+01,\n",
              "        3.96900e+02, 1.87200e+01],\n",
              "       [2.17700e-02, 8.25000e+01, 2.03000e+00, ..., 1.47000e+01,\n",
              "        3.95380e+02, 3.11000e+00],\n",
              "       [4.89822e+00, 0.00000e+00, 1.81000e+01, ..., 2.02000e+01,\n",
              "        3.75520e+02, 3.26000e+00],\n",
              "       ...,\n",
              "       [3.46600e-02, 3.50000e+01, 6.06000e+00, ..., 1.69000e+01,\n",
              "        3.62250e+02, 7.83000e+00],\n",
              "       [2.14918e+00, 0.00000e+00, 1.95800e+01, ..., 1.47000e+01,\n",
              "        2.61950e+02, 1.57900e+01],\n",
              "       [1.43900e-02, 6.00000e+01, 2.93000e+00, ..., 1.56000e+01,\n",
              "        3.76700e+02, 4.38000e+00]])"
            ]
          },
          "metadata": {},
          "execution_count": 55
        }
      ]
    },
    {
      "cell_type": "code",
      "source": [
        "#let view it as a dataframe\n",
        "import pandas as pd\n",
        "x_train_df=pd.DataFrame(X_train)\n",
        "x_train_df"
      ],
      "metadata": {
        "colab": {
          "base_uri": "https://localhost:8080/",
          "height": 424
        },
        "id": "XOcilkeSBwzG",
        "outputId": "378118f9-ca98-40c8-8dba-1982a76efd3e"
      },
      "execution_count": null,
      "outputs": [
        {
          "output_type": "execute_result",
          "data": {
            "text/plain": [
              "          0     1      2    3       4      5      6       7     8      9   \\\n",
              "0    1.23247   0.0   8.14  0.0  0.5380  6.142   91.7  3.9769   4.0  307.0   \n",
              "1    0.02177  82.5   2.03  0.0  0.4150  7.610   15.7  6.2700   2.0  348.0   \n",
              "2    4.89822   0.0  18.10  0.0  0.6310  4.970  100.0  1.3325  24.0  666.0   \n",
              "3    0.03961   0.0   5.19  0.0  0.5150  6.037   34.5  5.9853   5.0  224.0   \n",
              "4    3.69311   0.0  18.10  0.0  0.7130  6.376   88.4  2.5671  24.0  666.0   \n",
              "..       ...   ...    ...  ...     ...    ...    ...     ...   ...    ...   \n",
              "399  0.21977   0.0   6.91  0.0  0.4480  5.602   62.0  6.0877   3.0  233.0   \n",
              "400  0.16211  20.0   6.96  0.0  0.4640  6.240   16.3  4.4290   3.0  223.0   \n",
              "401  0.03466  35.0   6.06  0.0  0.4379  6.031   23.3  6.6407   1.0  304.0   \n",
              "402  2.14918   0.0  19.58  0.0  0.8710  5.709   98.5  1.6232   5.0  403.0   \n",
              "403  0.01439  60.0   2.93  0.0  0.4010  6.604   18.8  6.2196   1.0  265.0   \n",
              "\n",
              "       10      11     12  \n",
              "0    21.0  396.90  18.72  \n",
              "1    14.7  395.38   3.11  \n",
              "2    20.2  375.52   3.26  \n",
              "3    20.2  396.90   8.01  \n",
              "4    20.2  391.43  14.65  \n",
              "..    ...     ...    ...  \n",
              "399  17.9  396.90  16.20  \n",
              "400  18.6  396.90   6.59  \n",
              "401  16.9  362.25   7.83  \n",
              "402  14.7  261.95  15.79  \n",
              "403  15.6  376.70   4.38  \n",
              "\n",
              "[404 rows x 13 columns]"
            ],
            "text/html": [
              "\n",
              "  <div id=\"df-eb7bbd57-6ddd-41fd-b16e-8c87ef97484a\">\n",
              "    <div class=\"colab-df-container\">\n",
              "      <div>\n",
              "<style scoped>\n",
              "    .dataframe tbody tr th:only-of-type {\n",
              "        vertical-align: middle;\n",
              "    }\n",
              "\n",
              "    .dataframe tbody tr th {\n",
              "        vertical-align: top;\n",
              "    }\n",
              "\n",
              "    .dataframe thead th {\n",
              "        text-align: right;\n",
              "    }\n",
              "</style>\n",
              "<table border=\"1\" class=\"dataframe\">\n",
              "  <thead>\n",
              "    <tr style=\"text-align: right;\">\n",
              "      <th></th>\n",
              "      <th>0</th>\n",
              "      <th>1</th>\n",
              "      <th>2</th>\n",
              "      <th>3</th>\n",
              "      <th>4</th>\n",
              "      <th>5</th>\n",
              "      <th>6</th>\n",
              "      <th>7</th>\n",
              "      <th>8</th>\n",
              "      <th>9</th>\n",
              "      <th>10</th>\n",
              "      <th>11</th>\n",
              "      <th>12</th>\n",
              "    </tr>\n",
              "  </thead>\n",
              "  <tbody>\n",
              "    <tr>\n",
              "      <th>0</th>\n",
              "      <td>1.23247</td>\n",
              "      <td>0.0</td>\n",
              "      <td>8.14</td>\n",
              "      <td>0.0</td>\n",
              "      <td>0.5380</td>\n",
              "      <td>6.142</td>\n",
              "      <td>91.7</td>\n",
              "      <td>3.9769</td>\n",
              "      <td>4.0</td>\n",
              "      <td>307.0</td>\n",
              "      <td>21.0</td>\n",
              "      <td>396.90</td>\n",
              "      <td>18.72</td>\n",
              "    </tr>\n",
              "    <tr>\n",
              "      <th>1</th>\n",
              "      <td>0.02177</td>\n",
              "      <td>82.5</td>\n",
              "      <td>2.03</td>\n",
              "      <td>0.0</td>\n",
              "      <td>0.4150</td>\n",
              "      <td>7.610</td>\n",
              "      <td>15.7</td>\n",
              "      <td>6.2700</td>\n",
              "      <td>2.0</td>\n",
              "      <td>348.0</td>\n",
              "      <td>14.7</td>\n",
              "      <td>395.38</td>\n",
              "      <td>3.11</td>\n",
              "    </tr>\n",
              "    <tr>\n",
              "      <th>2</th>\n",
              "      <td>4.89822</td>\n",
              "      <td>0.0</td>\n",
              "      <td>18.10</td>\n",
              "      <td>0.0</td>\n",
              "      <td>0.6310</td>\n",
              "      <td>4.970</td>\n",
              "      <td>100.0</td>\n",
              "      <td>1.3325</td>\n",
              "      <td>24.0</td>\n",
              "      <td>666.0</td>\n",
              "      <td>20.2</td>\n",
              "      <td>375.52</td>\n",
              "      <td>3.26</td>\n",
              "    </tr>\n",
              "    <tr>\n",
              "      <th>3</th>\n",
              "      <td>0.03961</td>\n",
              "      <td>0.0</td>\n",
              "      <td>5.19</td>\n",
              "      <td>0.0</td>\n",
              "      <td>0.5150</td>\n",
              "      <td>6.037</td>\n",
              "      <td>34.5</td>\n",
              "      <td>5.9853</td>\n",
              "      <td>5.0</td>\n",
              "      <td>224.0</td>\n",
              "      <td>20.2</td>\n",
              "      <td>396.90</td>\n",
              "      <td>8.01</td>\n",
              "    </tr>\n",
              "    <tr>\n",
              "      <th>4</th>\n",
              "      <td>3.69311</td>\n",
              "      <td>0.0</td>\n",
              "      <td>18.10</td>\n",
              "      <td>0.0</td>\n",
              "      <td>0.7130</td>\n",
              "      <td>6.376</td>\n",
              "      <td>88.4</td>\n",
              "      <td>2.5671</td>\n",
              "      <td>24.0</td>\n",
              "      <td>666.0</td>\n",
              "      <td>20.2</td>\n",
              "      <td>391.43</td>\n",
              "      <td>14.65</td>\n",
              "    </tr>\n",
              "    <tr>\n",
              "      <th>...</th>\n",
              "      <td>...</td>\n",
              "      <td>...</td>\n",
              "      <td>...</td>\n",
              "      <td>...</td>\n",
              "      <td>...</td>\n",
              "      <td>...</td>\n",
              "      <td>...</td>\n",
              "      <td>...</td>\n",
              "      <td>...</td>\n",
              "      <td>...</td>\n",
              "      <td>...</td>\n",
              "      <td>...</td>\n",
              "      <td>...</td>\n",
              "    </tr>\n",
              "    <tr>\n",
              "      <th>399</th>\n",
              "      <td>0.21977</td>\n",
              "      <td>0.0</td>\n",
              "      <td>6.91</td>\n",
              "      <td>0.0</td>\n",
              "      <td>0.4480</td>\n",
              "      <td>5.602</td>\n",
              "      <td>62.0</td>\n",
              "      <td>6.0877</td>\n",
              "      <td>3.0</td>\n",
              "      <td>233.0</td>\n",
              "      <td>17.9</td>\n",
              "      <td>396.90</td>\n",
              "      <td>16.20</td>\n",
              "    </tr>\n",
              "    <tr>\n",
              "      <th>400</th>\n",
              "      <td>0.16211</td>\n",
              "      <td>20.0</td>\n",
              "      <td>6.96</td>\n",
              "      <td>0.0</td>\n",
              "      <td>0.4640</td>\n",
              "      <td>6.240</td>\n",
              "      <td>16.3</td>\n",
              "      <td>4.4290</td>\n",
              "      <td>3.0</td>\n",
              "      <td>223.0</td>\n",
              "      <td>18.6</td>\n",
              "      <td>396.90</td>\n",
              "      <td>6.59</td>\n",
              "    </tr>\n",
              "    <tr>\n",
              "      <th>401</th>\n",
              "      <td>0.03466</td>\n",
              "      <td>35.0</td>\n",
              "      <td>6.06</td>\n",
              "      <td>0.0</td>\n",
              "      <td>0.4379</td>\n",
              "      <td>6.031</td>\n",
              "      <td>23.3</td>\n",
              "      <td>6.6407</td>\n",
              "      <td>1.0</td>\n",
              "      <td>304.0</td>\n",
              "      <td>16.9</td>\n",
              "      <td>362.25</td>\n",
              "      <td>7.83</td>\n",
              "    </tr>\n",
              "    <tr>\n",
              "      <th>402</th>\n",
              "      <td>2.14918</td>\n",
              "      <td>0.0</td>\n",
              "      <td>19.58</td>\n",
              "      <td>0.0</td>\n",
              "      <td>0.8710</td>\n",
              "      <td>5.709</td>\n",
              "      <td>98.5</td>\n",
              "      <td>1.6232</td>\n",
              "      <td>5.0</td>\n",
              "      <td>403.0</td>\n",
              "      <td>14.7</td>\n",
              "      <td>261.95</td>\n",
              "      <td>15.79</td>\n",
              "    </tr>\n",
              "    <tr>\n",
              "      <th>403</th>\n",
              "      <td>0.01439</td>\n",
              "      <td>60.0</td>\n",
              "      <td>2.93</td>\n",
              "      <td>0.0</td>\n",
              "      <td>0.4010</td>\n",
              "      <td>6.604</td>\n",
              "      <td>18.8</td>\n",
              "      <td>6.2196</td>\n",
              "      <td>1.0</td>\n",
              "      <td>265.0</td>\n",
              "      <td>15.6</td>\n",
              "      <td>376.70</td>\n",
              "      <td>4.38</td>\n",
              "    </tr>\n",
              "  </tbody>\n",
              "</table>\n",
              "<p>404 rows × 13 columns</p>\n",
              "</div>\n",
              "      <button class=\"colab-df-convert\" onclick=\"convertToInteractive('df-eb7bbd57-6ddd-41fd-b16e-8c87ef97484a')\"\n",
              "              title=\"Convert this dataframe to an interactive table.\"\n",
              "              style=\"display:none;\">\n",
              "        \n",
              "  <svg xmlns=\"http://www.w3.org/2000/svg\" height=\"24px\"viewBox=\"0 0 24 24\"\n",
              "       width=\"24px\">\n",
              "    <path d=\"M0 0h24v24H0V0z\" fill=\"none\"/>\n",
              "    <path d=\"M18.56 5.44l.94 2.06.94-2.06 2.06-.94-2.06-.94-.94-2.06-.94 2.06-2.06.94zm-11 1L8.5 8.5l.94-2.06 2.06-.94-2.06-.94L8.5 2.5l-.94 2.06-2.06.94zm10 10l.94 2.06.94-2.06 2.06-.94-2.06-.94-.94-2.06-.94 2.06-2.06.94z\"/><path d=\"M17.41 7.96l-1.37-1.37c-.4-.4-.92-.59-1.43-.59-.52 0-1.04.2-1.43.59L10.3 9.45l-7.72 7.72c-.78.78-.78 2.05 0 2.83L4 21.41c.39.39.9.59 1.41.59.51 0 1.02-.2 1.41-.59l7.78-7.78 2.81-2.81c.8-.78.8-2.07 0-2.86zM5.41 20L4 18.59l7.72-7.72 1.47 1.35L5.41 20z\"/>\n",
              "  </svg>\n",
              "      </button>\n",
              "      \n",
              "  <style>\n",
              "    .colab-df-container {\n",
              "      display:flex;\n",
              "      flex-wrap:wrap;\n",
              "      gap: 12px;\n",
              "    }\n",
              "\n",
              "    .colab-df-convert {\n",
              "      background-color: #E8F0FE;\n",
              "      border: none;\n",
              "      border-radius: 50%;\n",
              "      cursor: pointer;\n",
              "      display: none;\n",
              "      fill: #1967D2;\n",
              "      height: 32px;\n",
              "      padding: 0 0 0 0;\n",
              "      width: 32px;\n",
              "    }\n",
              "\n",
              "    .colab-df-convert:hover {\n",
              "      background-color: #E2EBFA;\n",
              "      box-shadow: 0px 1px 2px rgba(60, 64, 67, 0.3), 0px 1px 3px 1px rgba(60, 64, 67, 0.15);\n",
              "      fill: #174EA6;\n",
              "    }\n",
              "\n",
              "    [theme=dark] .colab-df-convert {\n",
              "      background-color: #3B4455;\n",
              "      fill: #D2E3FC;\n",
              "    }\n",
              "\n",
              "    [theme=dark] .colab-df-convert:hover {\n",
              "      background-color: #434B5C;\n",
              "      box-shadow: 0px 1px 3px 1px rgba(0, 0, 0, 0.15);\n",
              "      filter: drop-shadow(0px 1px 2px rgba(0, 0, 0, 0.3));\n",
              "      fill: #FFFFFF;\n",
              "    }\n",
              "  </style>\n",
              "\n",
              "      <script>\n",
              "        const buttonEl =\n",
              "          document.querySelector('#df-eb7bbd57-6ddd-41fd-b16e-8c87ef97484a button.colab-df-convert');\n",
              "        buttonEl.style.display =\n",
              "          google.colab.kernel.accessAllowed ? 'block' : 'none';\n",
              "\n",
              "        async function convertToInteractive(key) {\n",
              "          const element = document.querySelector('#df-eb7bbd57-6ddd-41fd-b16e-8c87ef97484a');\n",
              "          const dataTable =\n",
              "            await google.colab.kernel.invokeFunction('convertToInteractive',\n",
              "                                                     [key], {});\n",
              "          if (!dataTable) return;\n",
              "\n",
              "          const docLinkHtml = 'Like what you see? Visit the ' +\n",
              "            '<a target=\"_blank\" href=https://colab.research.google.com/notebooks/data_table.ipynb>data table notebook</a>'\n",
              "            + ' to learn more about interactive tables.';\n",
              "          element.innerHTML = '';\n",
              "          dataTable['output_type'] = 'display_data';\n",
              "          await google.colab.output.renderOutput(dataTable, element);\n",
              "          const docLink = document.createElement('div');\n",
              "          docLink.innerHTML = docLinkHtml;\n",
              "          element.appendChild(docLink);\n",
              "        }\n",
              "      </script>\n",
              "    </div>\n",
              "  </div>\n",
              "  "
            ]
          },
          "metadata": {},
          "execution_count": 56
        }
      ]
    },
    {
      "cell_type": "code",
      "source": [
        "x_train_df.describe().T"
      ],
      "metadata": {
        "colab": {
          "base_uri": "https://localhost:8080/",
          "height": 457
        },
        "id": "YHLQwGsICA1R",
        "outputId": "211d15be-6435-414f-f9ef-cdca12624982"
      },
      "execution_count": null,
      "outputs": [
        {
          "output_type": "execute_result",
          "data": {
            "text/plain": [
              "    count        mean         std        min         25%        50%  \\\n",
              "0   404.0    3.745111    9.240734    0.00632    0.081437    0.26888   \n",
              "1   404.0   11.480198   23.767711    0.00000    0.000000    0.00000   \n",
              "2   404.0   11.104431    6.811308    0.46000    5.130000    9.69000   \n",
              "3   404.0    0.061881    0.241238    0.00000    0.000000    0.00000   \n",
              "4   404.0    0.557356    0.117293    0.38500    0.453000    0.53800   \n",
              "5   404.0    6.267082    0.709788    3.56100    5.874750    6.19850   \n",
              "6   404.0   69.010644   27.940665    2.90000   45.475000   78.50000   \n",
              "7   404.0    3.740271    2.030215    1.12960    2.077100    3.14230   \n",
              "8   404.0    9.440594    8.698360    1.00000    4.000000    5.00000   \n",
              "9   404.0  405.898515  166.374543  188.00000  279.000000  330.00000   \n",
              "10  404.0   18.475990    2.200382   12.60000   17.225000   19.10000   \n",
              "11  404.0  354.783168   94.111148    0.32000  374.672500  391.25000   \n",
              "12  404.0   12.740817    7.254545    1.73000    6.890000   11.39500   \n",
              "\n",
              "           75%       max  \n",
              "0     3.674808   88.9762  \n",
              "1    12.500000  100.0000  \n",
              "2    18.100000   27.7400  \n",
              "3     0.000000    1.0000  \n",
              "4     0.631000    0.8710  \n",
              "5     6.609000    8.7250  \n",
              "6    94.100000  100.0000  \n",
              "7     5.118000   10.7103  \n",
              "8    24.000000   24.0000  \n",
              "9   666.000000  711.0000  \n",
              "10   20.200000   22.0000  \n",
              "11  396.157500  396.9000  \n",
              "12   17.092500   37.9700  "
            ],
            "text/html": [
              "\n",
              "  <div id=\"df-be43f291-fa28-4bde-9418-f7f753bb6099\">\n",
              "    <div class=\"colab-df-container\">\n",
              "      <div>\n",
              "<style scoped>\n",
              "    .dataframe tbody tr th:only-of-type {\n",
              "        vertical-align: middle;\n",
              "    }\n",
              "\n",
              "    .dataframe tbody tr th {\n",
              "        vertical-align: top;\n",
              "    }\n",
              "\n",
              "    .dataframe thead th {\n",
              "        text-align: right;\n",
              "    }\n",
              "</style>\n",
              "<table border=\"1\" class=\"dataframe\">\n",
              "  <thead>\n",
              "    <tr style=\"text-align: right;\">\n",
              "      <th></th>\n",
              "      <th>count</th>\n",
              "      <th>mean</th>\n",
              "      <th>std</th>\n",
              "      <th>min</th>\n",
              "      <th>25%</th>\n",
              "      <th>50%</th>\n",
              "      <th>75%</th>\n",
              "      <th>max</th>\n",
              "    </tr>\n",
              "  </thead>\n",
              "  <tbody>\n",
              "    <tr>\n",
              "      <th>0</th>\n",
              "      <td>404.0</td>\n",
              "      <td>3.745111</td>\n",
              "      <td>9.240734</td>\n",
              "      <td>0.00632</td>\n",
              "      <td>0.081437</td>\n",
              "      <td>0.26888</td>\n",
              "      <td>3.674808</td>\n",
              "      <td>88.9762</td>\n",
              "    </tr>\n",
              "    <tr>\n",
              "      <th>1</th>\n",
              "      <td>404.0</td>\n",
              "      <td>11.480198</td>\n",
              "      <td>23.767711</td>\n",
              "      <td>0.00000</td>\n",
              "      <td>0.000000</td>\n",
              "      <td>0.00000</td>\n",
              "      <td>12.500000</td>\n",
              "      <td>100.0000</td>\n",
              "    </tr>\n",
              "    <tr>\n",
              "      <th>2</th>\n",
              "      <td>404.0</td>\n",
              "      <td>11.104431</td>\n",
              "      <td>6.811308</td>\n",
              "      <td>0.46000</td>\n",
              "      <td>5.130000</td>\n",
              "      <td>9.69000</td>\n",
              "      <td>18.100000</td>\n",
              "      <td>27.7400</td>\n",
              "    </tr>\n",
              "    <tr>\n",
              "      <th>3</th>\n",
              "      <td>404.0</td>\n",
              "      <td>0.061881</td>\n",
              "      <td>0.241238</td>\n",
              "      <td>0.00000</td>\n",
              "      <td>0.000000</td>\n",
              "      <td>0.00000</td>\n",
              "      <td>0.000000</td>\n",
              "      <td>1.0000</td>\n",
              "    </tr>\n",
              "    <tr>\n",
              "      <th>4</th>\n",
              "      <td>404.0</td>\n",
              "      <td>0.557356</td>\n",
              "      <td>0.117293</td>\n",
              "      <td>0.38500</td>\n",
              "      <td>0.453000</td>\n",
              "      <td>0.53800</td>\n",
              "      <td>0.631000</td>\n",
              "      <td>0.8710</td>\n",
              "    </tr>\n",
              "    <tr>\n",
              "      <th>5</th>\n",
              "      <td>404.0</td>\n",
              "      <td>6.267082</td>\n",
              "      <td>0.709788</td>\n",
              "      <td>3.56100</td>\n",
              "      <td>5.874750</td>\n",
              "      <td>6.19850</td>\n",
              "      <td>6.609000</td>\n",
              "      <td>8.7250</td>\n",
              "    </tr>\n",
              "    <tr>\n",
              "      <th>6</th>\n",
              "      <td>404.0</td>\n",
              "      <td>69.010644</td>\n",
              "      <td>27.940665</td>\n",
              "      <td>2.90000</td>\n",
              "      <td>45.475000</td>\n",
              "      <td>78.50000</td>\n",
              "      <td>94.100000</td>\n",
              "      <td>100.0000</td>\n",
              "    </tr>\n",
              "    <tr>\n",
              "      <th>7</th>\n",
              "      <td>404.0</td>\n",
              "      <td>3.740271</td>\n",
              "      <td>2.030215</td>\n",
              "      <td>1.12960</td>\n",
              "      <td>2.077100</td>\n",
              "      <td>3.14230</td>\n",
              "      <td>5.118000</td>\n",
              "      <td>10.7103</td>\n",
              "    </tr>\n",
              "    <tr>\n",
              "      <th>8</th>\n",
              "      <td>404.0</td>\n",
              "      <td>9.440594</td>\n",
              "      <td>8.698360</td>\n",
              "      <td>1.00000</td>\n",
              "      <td>4.000000</td>\n",
              "      <td>5.00000</td>\n",
              "      <td>24.000000</td>\n",
              "      <td>24.0000</td>\n",
              "    </tr>\n",
              "    <tr>\n",
              "      <th>9</th>\n",
              "      <td>404.0</td>\n",
              "      <td>405.898515</td>\n",
              "      <td>166.374543</td>\n",
              "      <td>188.00000</td>\n",
              "      <td>279.000000</td>\n",
              "      <td>330.00000</td>\n",
              "      <td>666.000000</td>\n",
              "      <td>711.0000</td>\n",
              "    </tr>\n",
              "    <tr>\n",
              "      <th>10</th>\n",
              "      <td>404.0</td>\n",
              "      <td>18.475990</td>\n",
              "      <td>2.200382</td>\n",
              "      <td>12.60000</td>\n",
              "      <td>17.225000</td>\n",
              "      <td>19.10000</td>\n",
              "      <td>20.200000</td>\n",
              "      <td>22.0000</td>\n",
              "    </tr>\n",
              "    <tr>\n",
              "      <th>11</th>\n",
              "      <td>404.0</td>\n",
              "      <td>354.783168</td>\n",
              "      <td>94.111148</td>\n",
              "      <td>0.32000</td>\n",
              "      <td>374.672500</td>\n",
              "      <td>391.25000</td>\n",
              "      <td>396.157500</td>\n",
              "      <td>396.9000</td>\n",
              "    </tr>\n",
              "    <tr>\n",
              "      <th>12</th>\n",
              "      <td>404.0</td>\n",
              "      <td>12.740817</td>\n",
              "      <td>7.254545</td>\n",
              "      <td>1.73000</td>\n",
              "      <td>6.890000</td>\n",
              "      <td>11.39500</td>\n",
              "      <td>17.092500</td>\n",
              "      <td>37.9700</td>\n",
              "    </tr>\n",
              "  </tbody>\n",
              "</table>\n",
              "</div>\n",
              "      <button class=\"colab-df-convert\" onclick=\"convertToInteractive('df-be43f291-fa28-4bde-9418-f7f753bb6099')\"\n",
              "              title=\"Convert this dataframe to an interactive table.\"\n",
              "              style=\"display:none;\">\n",
              "        \n",
              "  <svg xmlns=\"http://www.w3.org/2000/svg\" height=\"24px\"viewBox=\"0 0 24 24\"\n",
              "       width=\"24px\">\n",
              "    <path d=\"M0 0h24v24H0V0z\" fill=\"none\"/>\n",
              "    <path d=\"M18.56 5.44l.94 2.06.94-2.06 2.06-.94-2.06-.94-.94-2.06-.94 2.06-2.06.94zm-11 1L8.5 8.5l.94-2.06 2.06-.94-2.06-.94L8.5 2.5l-.94 2.06-2.06.94zm10 10l.94 2.06.94-2.06 2.06-.94-2.06-.94-.94-2.06-.94 2.06-2.06.94z\"/><path d=\"M17.41 7.96l-1.37-1.37c-.4-.4-.92-.59-1.43-.59-.52 0-1.04.2-1.43.59L10.3 9.45l-7.72 7.72c-.78.78-.78 2.05 0 2.83L4 21.41c.39.39.9.59 1.41.59.51 0 1.02-.2 1.41-.59l7.78-7.78 2.81-2.81c.8-.78.8-2.07 0-2.86zM5.41 20L4 18.59l7.72-7.72 1.47 1.35L5.41 20z\"/>\n",
              "  </svg>\n",
              "      </button>\n",
              "      \n",
              "  <style>\n",
              "    .colab-df-container {\n",
              "      display:flex;\n",
              "      flex-wrap:wrap;\n",
              "      gap: 12px;\n",
              "    }\n",
              "\n",
              "    .colab-df-convert {\n",
              "      background-color: #E8F0FE;\n",
              "      border: none;\n",
              "      border-radius: 50%;\n",
              "      cursor: pointer;\n",
              "      display: none;\n",
              "      fill: #1967D2;\n",
              "      height: 32px;\n",
              "      padding: 0 0 0 0;\n",
              "      width: 32px;\n",
              "    }\n",
              "\n",
              "    .colab-df-convert:hover {\n",
              "      background-color: #E2EBFA;\n",
              "      box-shadow: 0px 1px 2px rgba(60, 64, 67, 0.3), 0px 1px 3px 1px rgba(60, 64, 67, 0.15);\n",
              "      fill: #174EA6;\n",
              "    }\n",
              "\n",
              "    [theme=dark] .colab-df-convert {\n",
              "      background-color: #3B4455;\n",
              "      fill: #D2E3FC;\n",
              "    }\n",
              "\n",
              "    [theme=dark] .colab-df-convert:hover {\n",
              "      background-color: #434B5C;\n",
              "      box-shadow: 0px 1px 3px 1px rgba(0, 0, 0, 0.15);\n",
              "      filter: drop-shadow(0px 1px 2px rgba(0, 0, 0, 0.3));\n",
              "      fill: #FFFFFF;\n",
              "    }\n",
              "  </style>\n",
              "\n",
              "      <script>\n",
              "        const buttonEl =\n",
              "          document.querySelector('#df-be43f291-fa28-4bde-9418-f7f753bb6099 button.colab-df-convert');\n",
              "        buttonEl.style.display =\n",
              "          google.colab.kernel.accessAllowed ? 'block' : 'none';\n",
              "\n",
              "        async function convertToInteractive(key) {\n",
              "          const element = document.querySelector('#df-be43f291-fa28-4bde-9418-f7f753bb6099');\n",
              "          const dataTable =\n",
              "            await google.colab.kernel.invokeFunction('convertToInteractive',\n",
              "                                                     [key], {});\n",
              "          if (!dataTable) return;\n",
              "\n",
              "          const docLinkHtml = 'Like what you see? Visit the ' +\n",
              "            '<a target=\"_blank\" href=https://colab.research.google.com/notebooks/data_table.ipynb>data table notebook</a>'\n",
              "            + ' to learn more about interactive tables.';\n",
              "          element.innerHTML = '';\n",
              "          dataTable['output_type'] = 'display_data';\n",
              "          await google.colab.output.renderOutput(dataTable, element);\n",
              "          const docLink = document.createElement('div');\n",
              "          docLink.innerHTML = docLinkHtml;\n",
              "          element.appendChild(docLink);\n",
              "        }\n",
              "      </script>\n",
              "    </div>\n",
              "  </div>\n",
              "  "
            ]
          },
          "metadata": {},
          "execution_count": 57
        }
      ]
    },
    {
      "cell_type": "code",
      "source": [
        "#let normalized our data\n",
        "normalizer=tf.keras.layers.Normalization(axis=1)\n",
        "#fit the layer\n",
        "normalizer.adapt(X_train)"
      ],
      "metadata": {
        "id": "PBe4ZzGdCFGc"
      },
      "execution_count": null,
      "outputs": []
    },
    {
      "cell_type": "code",
      "source": [
        "#calcualte the mean normalizered layer\n",
        "print(normalizer.mean.numpy())"
      ],
      "metadata": {
        "colab": {
          "base_uri": "https://localhost:8080/"
        },
        "id": "jqnfWSRuDqzX",
        "outputId": "0bd9b9ad-8fd7-4368-f718-772ef352e92f"
      },
      "execution_count": null,
      "outputs": [
        {
          "output_type": "stream",
          "name": "stdout",
          "text": [
            "[[3.7451105e+00 1.1480199e+01 1.1104430e+01 6.1881185e-02 5.5735594e-01\n",
            "  6.2670808e+00 6.9010635e+01 3.7402709e+00 9.4405937e+00 4.0589847e+02\n",
            "  1.8475994e+01 3.5478317e+02 1.2740816e+01]]\n"
          ]
        }
      ]
    },
    {
      "cell_type": "code",
      "source": [
        "#lets compare the original vs normalized arrat\n",
        "with np.printoptions(precision=2, suppress=True):\n",
        "  print('First example', X_train[:1])\n",
        "  print()\n",
        "  print('Normalized:', normalizer(X_train[:1]))"
      ],
      "metadata": {
        "colab": {
          "base_uri": "https://localhost:8080/"
        },
        "id": "ozFkgrFPDyYb",
        "outputId": "e43b27e6-1d67-48c3-bf39-f2a95bb77c70"
      },
      "execution_count": null,
      "outputs": [
        {
          "output_type": "stream",
          "name": "stdout",
          "text": [
            "First example [[  1.23   0.     8.14   0.     0.54   6.14  91.7    3.98   4.   307.\n",
            "   21.   396.9   18.72]]\n",
            "\n",
            "Normalized: tf.Tensor(\n",
            "[[-0.27 -0.48 -0.44 -0.26 -0.17 -0.18  0.81  0.12 -0.63 -0.6   1.15  0.45\n",
            "   0.83]], shape=(1, 13), dtype=float32)\n"
          ]
        }
      ]
    },
    {
      "cell_type": "markdown",
      "source": [
        "#build another model with normalized data"
      ],
      "metadata": {
        "id": "FIskbroYEUzH"
      }
    },
    {
      "cell_type": "code",
      "source": [
        "#build\n",
        "model_2=tf.keras.Sequential([\n",
        "  normalizer,\n",
        "  tf.keras.layers.Dense(1)\n",
        "])\n",
        "\n",
        "#compile\n",
        "model_2.compile(loss='mae',\n",
        "                optimizer=tf.keras.optimizers.Adam())\n",
        "\n",
        "#fit\n",
        "model_2.fit(X_train, y_train, epochs=100, verbose=0 )\n"
      ],
      "metadata": {
        "colab": {
          "base_uri": "https://localhost:8080/"
        },
        "id": "GR4Pb7VrEeRj",
        "outputId": "94452b7b-2b78-49a8-a336-506ecca4bf93"
      },
      "execution_count": null,
      "outputs": [
        {
          "output_type": "execute_result",
          "data": {
            "text/plain": [
              "<keras.callbacks.History at 0x7fb77e017f90>"
            ]
          },
          "metadata": {},
          "execution_count": 61
        }
      ]
    },
    {
      "cell_type": "code",
      "source": [
        "#check and save results for later\n",
        "test_results['model_2']=model_2.evaluate(X_test, y_test)"
      ],
      "metadata": {
        "colab": {
          "base_uri": "https://localhost:8080/"
        },
        "id": "rUqIgjlzFZwZ",
        "outputId": "2b776a31-5447-4f37-d39b-b752c58b8bef"
      },
      "execution_count": null,
      "outputs": [
        {
          "output_type": "stream",
          "name": "stdout",
          "text": [
            "4/4 [==============================] - 0s 3ms/step - loss: 21.7432\n"
          ]
        }
      ]
    },
    {
      "cell_type": "code",
      "source": [
        "#lets try to improve the model\n",
        "#build\n",
        "model_3=tf.keras.Sequential([\n",
        "  normalizer,\n",
        "  tf.keras.layers.Dense(100),\n",
        "  tf.keras.layers.Dense(100),\n",
        "  tf.keras.layers.Dense(10),\n",
        "  tf.keras.layers.Dense(1)\n",
        "])\n",
        "\n",
        "#compile\n",
        "model_3.compile(loss='mae',\n",
        "                optimizer=tf.keras.optimizers.Adam())\n",
        "\n",
        "#fit\n",
        "model_3.fit(X_train, y_train, epochs=200, verbose=0 )"
      ],
      "metadata": {
        "colab": {
          "base_uri": "https://localhost:8080/"
        },
        "id": "pjF1A_ifFtyc",
        "outputId": "4e63863b-b641-46e6-cbc7-00d63367b0bb"
      },
      "execution_count": null,
      "outputs": [
        {
          "output_type": "execute_result",
          "data": {
            "text/plain": [
              "<keras.callbacks.History at 0x7fb77df07d90>"
            ]
          },
          "metadata": {},
          "execution_count": 63
        }
      ]
    },
    {
      "cell_type": "code",
      "source": [
        "#check and save results for later\n",
        "test_results['model_3']=model_3.evaluate(X_test, y_test)"
      ],
      "metadata": {
        "colab": {
          "base_uri": "https://localhost:8080/"
        },
        "id": "0sMsqqgcGSkb",
        "outputId": "590b9e44-7cd2-476b-9121-ccebb9bdb40f"
      },
      "execution_count": null,
      "outputs": [
        {
          "output_type": "stream",
          "name": "stdout",
          "text": [
            "4/4 [==============================] - 0s 4ms/step - loss: 3.1388\n"
          ]
        }
      ]
    },
    {
      "cell_type": "markdown",
      "source": [
        "# Performance\n"
      ],
      "metadata": {
        "id": "gPBV-ljQGg14"
      }
    },
    {
      "cell_type": "code",
      "source": [
        "pd.DataFrame(test_results, index=['Mean absolute error']).T"
      ],
      "metadata": {
        "colab": {
          "base_uri": "https://localhost:8080/",
          "height": 144
        },
        "id": "VDFlZ4KHGu3e",
        "outputId": "cbe415e7-fe8e-4cff-fa1a-94975f410dda"
      },
      "execution_count": null,
      "outputs": [
        {
          "output_type": "execute_result",
          "data": {
            "text/plain": [
              "         Mean absolute error\n",
              "model_1           830.877991\n",
              "model_2            21.743200\n",
              "model_3             3.138830"
            ],
            "text/html": [
              "\n",
              "  <div id=\"df-0898dba8-d69b-496f-8ef7-24eaf04fdf5b\">\n",
              "    <div class=\"colab-df-container\">\n",
              "      <div>\n",
              "<style scoped>\n",
              "    .dataframe tbody tr th:only-of-type {\n",
              "        vertical-align: middle;\n",
              "    }\n",
              "\n",
              "    .dataframe tbody tr th {\n",
              "        vertical-align: top;\n",
              "    }\n",
              "\n",
              "    .dataframe thead th {\n",
              "        text-align: right;\n",
              "    }\n",
              "</style>\n",
              "<table border=\"1\" class=\"dataframe\">\n",
              "  <thead>\n",
              "    <tr style=\"text-align: right;\">\n",
              "      <th></th>\n",
              "      <th>Mean absolute error</th>\n",
              "    </tr>\n",
              "  </thead>\n",
              "  <tbody>\n",
              "    <tr>\n",
              "      <th>model_1</th>\n",
              "      <td>830.877991</td>\n",
              "    </tr>\n",
              "    <tr>\n",
              "      <th>model_2</th>\n",
              "      <td>21.743200</td>\n",
              "    </tr>\n",
              "    <tr>\n",
              "      <th>model_3</th>\n",
              "      <td>3.138830</td>\n",
              "    </tr>\n",
              "  </tbody>\n",
              "</table>\n",
              "</div>\n",
              "      <button class=\"colab-df-convert\" onclick=\"convertToInteractive('df-0898dba8-d69b-496f-8ef7-24eaf04fdf5b')\"\n",
              "              title=\"Convert this dataframe to an interactive table.\"\n",
              "              style=\"display:none;\">\n",
              "        \n",
              "  <svg xmlns=\"http://www.w3.org/2000/svg\" height=\"24px\"viewBox=\"0 0 24 24\"\n",
              "       width=\"24px\">\n",
              "    <path d=\"M0 0h24v24H0V0z\" fill=\"none\"/>\n",
              "    <path d=\"M18.56 5.44l.94 2.06.94-2.06 2.06-.94-2.06-.94-.94-2.06-.94 2.06-2.06.94zm-11 1L8.5 8.5l.94-2.06 2.06-.94-2.06-.94L8.5 2.5l-.94 2.06-2.06.94zm10 10l.94 2.06.94-2.06 2.06-.94-2.06-.94-.94-2.06-.94 2.06-2.06.94z\"/><path d=\"M17.41 7.96l-1.37-1.37c-.4-.4-.92-.59-1.43-.59-.52 0-1.04.2-1.43.59L10.3 9.45l-7.72 7.72c-.78.78-.78 2.05 0 2.83L4 21.41c.39.39.9.59 1.41.59.51 0 1.02-.2 1.41-.59l7.78-7.78 2.81-2.81c.8-.78.8-2.07 0-2.86zM5.41 20L4 18.59l7.72-7.72 1.47 1.35L5.41 20z\"/>\n",
              "  </svg>\n",
              "      </button>\n",
              "      \n",
              "  <style>\n",
              "    .colab-df-container {\n",
              "      display:flex;\n",
              "      flex-wrap:wrap;\n",
              "      gap: 12px;\n",
              "    }\n",
              "\n",
              "    .colab-df-convert {\n",
              "      background-color: #E8F0FE;\n",
              "      border: none;\n",
              "      border-radius: 50%;\n",
              "      cursor: pointer;\n",
              "      display: none;\n",
              "      fill: #1967D2;\n",
              "      height: 32px;\n",
              "      padding: 0 0 0 0;\n",
              "      width: 32px;\n",
              "    }\n",
              "\n",
              "    .colab-df-convert:hover {\n",
              "      background-color: #E2EBFA;\n",
              "      box-shadow: 0px 1px 2px rgba(60, 64, 67, 0.3), 0px 1px 3px 1px rgba(60, 64, 67, 0.15);\n",
              "      fill: #174EA6;\n",
              "    }\n",
              "\n",
              "    [theme=dark] .colab-df-convert {\n",
              "      background-color: #3B4455;\n",
              "      fill: #D2E3FC;\n",
              "    }\n",
              "\n",
              "    [theme=dark] .colab-df-convert:hover {\n",
              "      background-color: #434B5C;\n",
              "      box-shadow: 0px 1px 3px 1px rgba(0, 0, 0, 0.15);\n",
              "      filter: drop-shadow(0px 1px 2px rgba(0, 0, 0, 0.3));\n",
              "      fill: #FFFFFF;\n",
              "    }\n",
              "  </style>\n",
              "\n",
              "      <script>\n",
              "        const buttonEl =\n",
              "          document.querySelector('#df-0898dba8-d69b-496f-8ef7-24eaf04fdf5b button.colab-df-convert');\n",
              "        buttonEl.style.display =\n",
              "          google.colab.kernel.accessAllowed ? 'block' : 'none';\n",
              "\n",
              "        async function convertToInteractive(key) {\n",
              "          const element = document.querySelector('#df-0898dba8-d69b-496f-8ef7-24eaf04fdf5b');\n",
              "          const dataTable =\n",
              "            await google.colab.kernel.invokeFunction('convertToInteractive',\n",
              "                                                     [key], {});\n",
              "          if (!dataTable) return;\n",
              "\n",
              "          const docLinkHtml = 'Like what you see? Visit the ' +\n",
              "            '<a target=\"_blank\" href=https://colab.research.google.com/notebooks/data_table.ipynb>data table notebook</a>'\n",
              "            + ' to learn more about interactive tables.';\n",
              "          element.innerHTML = '';\n",
              "          dataTable['output_type'] = 'display_data';\n",
              "          await google.colab.output.renderOutput(dataTable, element);\n",
              "          const docLink = document.createElement('div');\n",
              "          docLink.innerHTML = docLinkHtml;\n",
              "          element.appendChild(docLink);\n",
              "        }\n",
              "      </script>\n",
              "    </div>\n",
              "  </div>\n",
              "  "
            ]
          },
          "metadata": {},
          "execution_count": 65
        }
      ]
    },
    {
      "cell_type": "code",
      "source": [
        "#let save model_3\n",
        "model_3.save('Boston_Housing_Model')"
      ],
      "metadata": {
        "colab": {
          "base_uri": "https://localhost:8080/"
        },
        "id": "Or5-OboNGwGj",
        "outputId": "85fb5c36-9a18-45b9-e72d-eb5a5ed31bb7"
      },
      "execution_count": null,
      "outputs": [
        {
          "output_type": "stream",
          "name": "stdout",
          "text": [
            "INFO:tensorflow:Assets written to: Boston_Housing_Model/assets\n"
          ]
        }
      ]
    },
    {
      "cell_type": "code",
      "source": [
        ""
      ],
      "metadata": {
        "id": "M8ArtVzlHIlI"
      },
      "execution_count": null,
      "outputs": []
    }
  ]
}